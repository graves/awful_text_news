{
  "cells": [
    {
      "cell_type": "markdown",
      "metadata": {
        "id": "view-in-github",
        "colab_type": "text"
      },
      "source": [
        "<a href=\"https://colab.research.google.com/github/graves/awful_text_news/blob/main/Awful_News_Llama_A100.ipynb\" target=\"_parent\"><img src=\"https://colab.research.google.com/assets/colab-badge.svg\" alt=\"Open In Colab\"/></a>"
      ]
    },
    {
      "cell_type": "code",
      "execution_count": null,
      "metadata": {
        "id": "88WyLLrDBe-o",
        "cellView": "form"
      },
      "outputs": [],
      "source": [
        "#@title #Runtime Info\n",
        "gpu_info = !nvidia-smi\n",
        "gpu_info = '\\n'.join(gpu_info)\n",
        "if gpu_info.find('failed') >= 0:\n",
        "  print('Not connected to a GPU')\n",
        "else:\n",
        "  print(gpu_info)\n",
        "from psutil import virtual_memory\n",
        "ram_gb = virtual_memory().total / 1e9\n",
        "print('Your runtime has {:.1f} gigabytes of available RAM\\n'.format(ram_gb))\n",
        "if ram_gb < 20:\n",
        "  print('Not using a high-RAM runtime')\n",
        "else:\n",
        "  print('You are using a high-RAM runtime!')\n"
      ]
    },
    {
      "cell_type": "code",
      "source": [
        "#@title 1. Keep this tab alive to prevent Colab from disconnecting you { display-mode: \"form\" }\n",
        "\n",
        "#@markdown Press play on the music player that will appear below:\n",
        "%%html\n",
        "<audio src=\"https://oobabooga.github.io/silence.m4a\" controls>"
      ],
      "metadata": {
        "id": "h2QNJkRY9W70"
      },
      "execution_count": null,
      "outputs": []
    },
    {
      "cell_type": "code",
      "source": [
        "#@title # Pre-setup\n",
        "\n",
        "# Drive, for saving/loading cloudflared configs:\n",
        "from google.colab import drive\n",
        "drive.mount('/content/drive/', force_remount=True)"
      ],
      "metadata": {
        "id": "OGPwPT0pvS3y"
      },
      "execution_count": null,
      "outputs": []
    },
    {
      "cell_type": "code",
      "source": [
        "#@title # Setup\n",
        "\n",
        "# Get llama.cpp\n",
        "%cd /content/drive/MyDrive\n",
        "!rm -rf llama.cpp-a100\n",
        "!git clone https://github.com/ggerganov/llama.cpp.git llama.cpp-a100\n",
        "%cd llama.cpp-a100\n",
        "\n",
        "# Build Llama.cpp specific to T4\n",
        "!CMAKE_ARGS=\"-DGGML_CUDA=ON\"  cmake -B build -DGGML_CUDA=ON\n",
        "!cmake --build build --config Release\n",
        "\n",
        "%cd /content/drive/MyDrive/llama.cpp-a100/build/bin\n",
        "\n",
        "# Get cloudflared\n",
        "!wget -q -nc https://github.com/cloudflare/cloudflared/releases/download/2025.4.2/cloudflared-fips-linux-amd64\n",
        "!mv cloudflared-fips-linux-amd64 cloudflared\n",
        "!chmod +x cloudflared"
      ],
      "metadata": {
        "id": "kxPwlxke3WSK"
      },
      "execution_count": null,
      "outputs": []
    },
    {
      "cell_type": "code",
      "source": [
        "#@title #Get Model\n",
        "\n",
        "%cd /content/drive/MyDrive\n",
        "\n",
        "# Get qwen2.5-3B-instruct\n",
        "!wget https://huggingface.co/bartowski/Qwen2.5-3B-Instruct-GGUF/resolve/main/Qwen2.5-3B-Instruct-Q8_0.gguf"
      ],
      "metadata": {
        "id": "PqRD_AVmwk-f"
      },
      "execution_count": null,
      "outputs": []
    },
    {
      "cell_type": "code",
      "source": [
        "#@title # On the First Run\n",
        "# For first-time runs:\n",
        "!./cloudflared tunnel login\n",
        "!cp /root/.cloudflared/cert.pem /content/drive/MyDrive/cloudflared-cert.pem"
      ],
      "metadata": {
        "id": "rxeKTWi7dBWg"
      },
      "execution_count": null,
      "outputs": []
    },
    {
      "cell_type": "code",
      "source": [
        "#@title # On Later Runs\n",
        "# For later runs:\n",
        "!mkdir -p /root/.cloudflared/\n",
        "!cp /content/drive/MyDrive/cloudflared-cert.pem /root/.cloudflared/cert.pem"
      ],
      "metadata": {
        "id": "7lnMsMTpdJEf"
      },
      "execution_count": null,
      "outputs": []
    },
    {
      "cell_type": "code",
      "source": [
        "#@title # Inference\n",
        "# To tunnel while running a Python app:\n",
        "%cd /content/drive/MyDrive/llama.cpp-a100/build/bin\n",
        "\n",
        "!chmod +x cloudflared\n",
        "!chmod +x llama-server\n",
        "\n",
        "import os\n",
        "\n",
        "import subprocess\n",
        "import threading\n",
        "import time\n",
        "import socket\n",
        "\n",
        "from subprocess import Popen\n",
        "\n",
        "print(\"start cloudflared tunnel\")\n",
        "f = open(\"stdout\", \"w\")\n",
        "Popen(['./cloudflared','--url','http://localhost:12345', '--hostname', \"llama.awfulsec.com\"], bufsize=0, stdout=f, stderr=subprocess.STDOUT)\n",
        "\n",
        "import time\n",
        "\n",
        "time.sleep(10)\n",
        "\n",
        "!grep -F trycloudflare stdout\n",
        "\n",
        "!./llama-server -m ./Qwen2.5-3B-Instruct-Q8_0.gguf -ngl 37 -c 0 --port 12345\n"
      ],
      "metadata": {
        "id": "q9IV1xQao-We"
      },
      "execution_count": null,
      "outputs": []
    }
  ],
  "metadata": {
    "accelerator": "GPU",
    "colab": {
      "provenance": [],
      "private_outputs": true,
      "gpuType": "A100",
      "machine_shape": "hm",
      "include_colab_link": true
    },
    "kernelspec": {
      "display_name": "Python 3",
      "name": "python3"
    },
    "language_info": {
      "name": "python"
    }
  },
  "nbformat": 4,
  "nbformat_minor": 0
}